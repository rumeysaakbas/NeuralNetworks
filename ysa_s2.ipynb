{
  "nbformat": 4,
  "nbformat_minor": 0,
  "metadata": {
    "colab": {
      "provenance": [],
      "authorship_tag": "ABX9TyNjDOyXBEYvB8hg0RrcPITb",
      "include_colab_link": true
    },
    "kernelspec": {
      "name": "python3",
      "display_name": "Python 3"
    },
    "language_info": {
      "name": "python"
    },
    "accelerator": "GPU",
    "gpuClass": "standard"
  },
  "cells": [
    {
      "cell_type": "markdown",
      "metadata": {
        "id": "view-in-github",
        "colab_type": "text"
      },
      "source": [
        "<a href=\"https://colab.research.google.com/github/rumeysaakbas/NeuralNetworks/blob/main/ysa_s2.ipynb\" target=\"_parent\"><img src=\"https://colab.research.google.com/assets/colab-badge.svg\" alt=\"Open In Colab\"/></a>"
      ]
    },
    {
      "cell_type": "code",
      "source": [
        "import torch\n",
        "import torch.nn as nn\n",
        "import pandas as pd\n",
        "from sklearn.preprocessing import StandardScaler\n",
        "from torch.utils.data import TensorDataset, DataLoader\n",
        "import time\n",
        "\n",
        "\n",
        "# Veri setini yükle\n",
        "train_df = pd.read_csv(\"cure_the_princess_train.csv\")\n",
        "test_df = pd.read_csv(\"cure_the_princess_test.csv\")\n",
        "val_df = pd.read_csv(\"cure_the_princess_validation.csv\")\n",
        "\n",
        "# Hedef sütunu etiket olarak ayır\n",
        "train_labels = train_df['Cured'].values\n",
        "train_df = train_df.drop('Cured', axis=1)\n",
        "test_labels = test_df['Cured'].values\n",
        "test_df = test_df.drop('Cured', axis=1)\n",
        "val_labels = val_df['Cured'].values\n",
        "val_df = val_df.drop('Cured', axis=1)\n",
        "\n",
        "# Girdi özelliklerini normalize edin\n",
        "scaler = StandardScaler()\n",
        "train_df = scaler.fit_transform(train_df)\n",
        "test_df = scaler.fit_transform(test_df)\n",
        "val_df = scaler.fit_transform(val_df)\n",
        "\n",
        "# Verileri PyTorch tensor'larına dönüştürün\n",
        "X_train = torch.Tensor(train_df)\n",
        "y_train = torch.Tensor(train_labels)\n",
        "X_test = torch.Tensor(test_df)\n",
        "y_test = torch.Tensor(test_labels)\n",
        "X_val = torch.Tensor(val_df)\n",
        "y_val = torch.Tensor(val_labels)\n",
        "\n",
        "# Tensor'ları birleştirin\n",
        "train_data = TensorDataset(X_train, y_train)\n",
        "test_data = TensorDataset(X_test, y_test)\n",
        "val_data = TensorDataset(X_val, y_val)\n",
        "\n",
        "# Trainloader'ı oluşturun\n",
        "batch_size = 32\n",
        "trainloader = DataLoader(train_data, batch_size=batch_size, shuffle=True)\n",
        "testloader = DataLoader(test_data, batch_size=batch_size, shuffle=True)\n",
        "valloader = DataLoader(val_data, batch_size=batch_size, shuffle=True)\n",
        "\n"
      ],
      "metadata": {
        "id": "wVSI1KMU2wUO"
      },
      "execution_count": 16,
      "outputs": []
    },
    {
      "cell_type": "code",
      "source": [
        "class MLP(nn.Module):\n",
        "    def __init__(self, input_size, h1_size, h2_size, output_size):\n",
        "        super(MLP, self).__init__()\n",
        "        self.fc1 = nn.Linear(input_size, h1_size)\n",
        "        self.bn1 = nn.BatchNorm1d(h1_size)\n",
        "        self.fc2 = nn.Linear(h1_size, h2_size)\n",
        "        self.bn2 = nn.BatchNorm1d(h2_size)\n",
        "        self.fc3 = nn.Linear(h2_size, output_size)\n",
        "        self.relu = nn.ReLU()\n",
        "        self.sigmoid = nn.Sigmoid()\n",
        "        self.dropout = nn.Dropout(p=0.8)\n",
        "        \n",
        "    def forward(self, input_layer):\n",
        "        hidden_layer1 = self.dropout(self.relu(self.bn1(self.fc1(input_layer))))\n",
        "        hidden_layer2 = self.dropout(self.relu(self.bn2(self.fc2(hidden_layer1))))\n",
        "        output_layer = self.sigmoid(self.fc3(hidden_layer2))\n",
        "        return output_layer\n"
      ],
      "metadata": {
        "id": "HNx8BYgTBXtL"
      },
      "execution_count": 17,
      "outputs": []
    },
    {
      "cell_type": "code",
      "source": [
        "import seaborn as sns\n",
        "import matplotlib.pyplot as plt\n",
        "import torch.optim as optim\n",
        "baslangic_zamani = time.time()\n",
        "\n",
        "torch.manual_seed(190401003)\n",
        "\n",
        "input_size = train_df.shape[1]\n",
        "h1_size = 100\n",
        "h2_size = 50\n",
        "output_size = 1\n",
        "lr = 0.001\n",
        "patience_counter = 0\n",
        "patience = 5\n",
        "\n",
        "num_epochs = 25\n",
        "list_train_loss, list_val_loss = [], []\n",
        "best_val_loss = None\n",
        "\n",
        "# Modeli cihaz üzerinde eğitin\n",
        "device = torch.device('cuda' if torch.cuda.is_available() else 'cpu')\n",
        "model = MLP(input_size, h1_size, h2_size, output_size).to(device)\n",
        "criterion = nn.MSELoss()\n",
        "#optimizer = optim.Adam(model.parameters(), lr=lr)\n",
        "optimizer = optim.SGD(model.parameters(), lr=0.01, momentum=0.9, weight_decay=0.0001)\n",
        "\n",
        "# Train the model\n",
        "for epoch in range(num_epochs):\n",
        "\n",
        "    # training loop\n",
        "    train_loss = 0.0\n",
        "    train_count = 0.0\n",
        "    for X_train, y_train in trainloader:\n",
        "        # zero the parameter gradients\n",
        "        optimizer.zero_grad()\n",
        "\n",
        "        outputs = model(X_train.to(device))\n",
        "        loss = criterion(outputs, y_train.to(device).unsqueeze(1))\n",
        "        loss += 0.5 * 0.001 * sum([torch.sum(param ** 2) for param in model.parameters()])\n",
        "        loss.backward()\n",
        "        optimizer.step()\n",
        "        train_count += 1.0\n",
        "        train_loss += loss.item()\n",
        "\n",
        "    val_loss = 0.0\n",
        "    with torch.no_grad():\n",
        "        model.eval()\n",
        "        for X_val, y_val in valloader:\n",
        "            outputs = model(X_val.to(device))\n",
        "            loss = criterion(outputs, y_val.to(device))\n",
        "            #validation_count += 1.0\n",
        "            val_loss += loss.item()\n",
        "    model.train()\n",
        "\n",
        "    # calculate metrics\n",
        "    train_loss /= train_count\n",
        "    val_loss /= len(valloader)\n",
        "    #val_acc = 100 * val_correct / val_total\n",
        "\n",
        "    print(\"Epoch\", epoch, \"Training loss\", train_loss,\"Validation Loss :\",val_loss)\n",
        "\n",
        "    list_train_loss.append(train_loss)\n",
        "    list_val_loss.append(val_loss)\n",
        "\n",
        "    '''val_score = val_loss\n",
        "    if best_val_loss is None:\n",
        "        best_val_loss = val_score # hafızada patience boyu tutmaya başla\n",
        "        torch.save(model.state_dict(), \"checkpoint.pt\")\n",
        "    elif best_val_loss < val_score: # patience counter\n",
        "        patience_counter += 1\n",
        "        print(\"Earlystopping Patience Counter:\",patience_counter)\n",
        "        if patience_counter == patience:\n",
        "            break\n",
        "    else:\n",
        "        best_val_loss = val_score\n",
        "        torch.save(model.state_dict(), \"checkpoint.pt\") # to keep the best model\n",
        "        patience_counter = 0'''\n",
        "\n",
        "sns.set_style(\"darkgrid\")\n",
        "plt.plot(list_train_loss, label=\"Training loss\")\n",
        "plt.plot(list_val_loss, label=\"Validation loss\")\n",
        "plt.xlabel(\"Epoch\")\n",
        "plt.ylabel(\"Loss\")\n",
        "plt.legend()\n",
        "plt.show()\n",
        "\n",
        "\n",
        "print('Finished Training')\n",
        "\n",
        "print(\"--- %s saniye ---\" % (time.time() - baslangic_zamani))"
      ],
      "metadata": {
        "colab": {
          "base_uri": "https://localhost:8080/",
          "height": 1000
        },
        "id": "C0AJc99I5YSH",
        "outputId": "41e92d59-c750-495e-eb5b-e968572ab8d0"
      },
      "execution_count": 18,
      "outputs": [
        {
          "output_type": "stream",
          "name": "stderr",
          "text": [
            "/usr/local/lib/python3.9/dist-packages/torch/nn/modules/loss.py:536: UserWarning: Using a target size (torch.Size([32])) that is different to the input size (torch.Size([32, 1])). This will likely lead to incorrect results due to broadcasting. Please ensure they have the same size.\n",
            "  return F.mse_loss(input, target, reduction=self.reduction)\n",
            "/usr/local/lib/python3.9/dist-packages/torch/nn/modules/loss.py:536: UserWarning: Using a target size (torch.Size([26])) that is different to the input size (torch.Size([26, 1])). This will likely lead to incorrect results due to broadcasting. Please ensure they have the same size.\n",
            "  return F.mse_loss(input, target, reduction=self.reduction)\n"
          ]
        },
        {
          "output_type": "stream",
          "name": "stdout",
          "text": [
            "Epoch 0 Training loss 0.36875796839594843 Validation Loss : 0.2506861060857773\n",
            "Epoch 1 Training loss 0.351004920899868 Validation Loss : 0.2507523223757744\n",
            "Epoch 2 Training loss 0.350387866795063 Validation Loss : 0.25056711584329605\n",
            "Epoch 3 Training loss 0.3458912745118141 Validation Loss : 0.2505014851689339\n",
            "Epoch 4 Training loss 0.3445174306631088 Validation Loss : 0.2508497595787048\n",
            "Epoch 5 Training loss 0.34339201301336286 Validation Loss : 0.2520110487937927\n",
            "Epoch 6 Training loss 0.3369668237864971 Validation Loss : 0.2517662763595581\n",
            "Epoch 7 Training loss 0.32744994312524794 Validation Loss : 0.2535833135247231\n",
            "Epoch 8 Training loss 0.3255854368209839 Validation Loss : 0.2552816778421402\n",
            "Epoch 9 Training loss 0.31823914051055907 Validation Loss : 0.2602248668670654\n",
            "Epoch 10 Training loss 0.3229566507041454 Validation Loss : 0.2649630606174469\n",
            "Epoch 11 Training loss 0.308175378292799 Validation Loss : 0.26424236595630646\n",
            "Epoch 12 Training loss 0.29779893793165685 Validation Loss : 0.2690765917301178\n",
            "Epoch 13 Training loss 0.2977604202926159 Validation Loss : 0.2815471738576889\n",
            "Epoch 14 Training loss 0.30208693221211436 Validation Loss : 0.2820431411266327\n",
            "Epoch 15 Training loss 0.28729651160538194 Validation Loss : 0.2901453793048859\n",
            "Epoch 16 Training loss 0.269365056976676 Validation Loss : 0.2962532967329025\n",
            "Epoch 17 Training loss 0.2739990305155516 Validation Loss : 0.3010104149580002\n",
            "Epoch 18 Training loss 0.2718708675354719 Validation Loss : 0.3123200863599777\n",
            "Epoch 19 Training loss 0.2678832393139601 Validation Loss : 0.3145762264728546\n",
            "Epoch 20 Training loss 0.256027676910162 Validation Loss : 0.31580139696598053\n",
            "Epoch 21 Training loss 0.24264645464718343 Validation Loss : 0.3265954256057739\n",
            "Epoch 22 Training loss 0.2558221388608217 Validation Loss : 0.33306454718112943\n",
            "Epoch 23 Training loss 0.24167051091790198 Validation Loss : 0.3375900387763977\n",
            "Epoch 24 Training loss 0.2465968256816268 Validation Loss : 0.340000307559967\n"
          ]
        },
        {
          "output_type": "display_data",
          "data": {
            "text/plain": [
              "<Figure size 640x480 with 1 Axes>"
            ],
            "image/png": "[encoded data removed]"
          },
          "metadata": {}
        },
        {
          "output_type": "stream",
          "name": "stdout",
          "text": [
            "Finished Training\n",
            "--- 6.441974639892578 saniye ---\n"
          ]
        }
      ]
    },
    {
      "cell_type": "code",
      "source": [
        "from sklearn.metrics import classification_report, confusion_matrix\n",
        "\n",
        "y_pred = model(X_test.to(device))\n",
        "y_pred = torch.argmax(y_pred, dim=1)\n",
        "\n",
        "cm = confusion_matrix(y_test.to(device), y_pred)\n",
        "cr = classification_report(y_test.to(device), y_pred)\n",
        "\n",
        "print(\"Confusion matrix:\")\n",
        "print(cm)\n",
        "print(\"\\nClassification report:\")\n",
        "print(cr)"
      ],
      "metadata": {
        "id": "DEpCUowSGi9s"
      },
      "execution_count": 23,
      "outputs": []
    }
  ]
}
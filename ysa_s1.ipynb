{
  "nbformat": 4,
  "nbformat_minor": 0,
  "metadata": {
    "colab": {
      "provenance": [],
      "authorship_tag": "ABX9TyM7IQbeS+5LhNhtNSKSf41N"
    },
    "kernelspec": {
      "name": "python3",
      "display_name": "Python 3"
    },
    "language_info": {
      "name": "python"
    }
  },
  "cells": [
    {
      "cell_type": "code",
      "source": [
        "import random\n",
        "import numpy as np\n",
        "import torch"
      ],
      "metadata": {
        "id": "8i_rPYqGWr53"
      },
      "execution_count": 5,
      "outputs": []
    },
    {
      "cell_type": "code",
      "source": [
        "def sigmoid_func(x):\n",
        "  return 1 / (1 + torch.exp(-x))\n",
        "\n",
        "def tanh_func(x):\n",
        "  return (torch.exp(x) - torch.exp(-x)) / (torch.exp(x) + torch.exp(-x))"
      ],
      "metadata": {
        "id": "yrkW59moOjAO"
      },
      "execution_count": 6,
      "outputs": []
    },
    {
      "cell_type": "code",
      "source": [
        "def set_seed(seed=None, seed_torch=True):\n",
        "  if seed is None:\n",
        "    seed = np.random.choice(2**32)\n",
        "  random.seed(seed)\n",
        "  np.random.seed(seed)\n",
        "  if seed_torch:\n",
        "    torch.manual_seed(seed)\n",
        "    torch.backends.cudnn.benchmark = False\n",
        "    torch.backends.cudnn.deterministic = True\n",
        "\n",
        "  print(f'Random seed {seed} has been set.')\n",
        "  \n",
        "def set_device():\n",
        "  device = \"cuda\" if torch.cuda.is_available() else \"cpu\"\n",
        "  return device"
      ],
      "metadata": {
        "id": "hpaN6efF-zKi"
      },
      "execution_count": 7,
      "outputs": []
    },
    {
      "cell_type": "code",
      "source": [
        "set_seed(seed=190401003)\n",
        "DEVICE = set_device()\n",
        "\n",
        "# input, hidden layer, output layer boyutları\n",
        "input_size = 3\n",
        "hidden_size = 50\n",
        "output_size = 1\n",
        "\n",
        "# model tanımı\n",
        "class MLP(torch.nn.Module):\n",
        "    def __init__(self):\n",
        "        super().__init__()\n",
        "        self.fc1 = torch.nn.Linear(input_size, hidden_size)\n",
        "        self.fc2 = torch.nn.Linear(hidden_size, output_size)\n",
        "    \n",
        "    def forward(self, x):\n",
        "        # hidden layer\n",
        "        a1 = tanh_func(self.fc1(x))\n",
        "        # output layer\n",
        "        z2 = self.fc2(a1)\n",
        "        a2 = sigmoid_func(z2)\n",
        "        return a2\n",
        "        \n",
        "# modeli oluşturma\n",
        "model = MLP()\n",
        "\n",
        "# Input tensor\n",
        "X = torch.tensor([[1, 2, 3], [4, 5, 6]], dtype=torch.float32)\n",
        "output_tensor = model(X)\n",
        "\n",
        "print(output_tensor)\n"
      ],
      "metadata": {
        "colab": {
          "base_uri": "https://localhost:8080/"
        },
        "id": "xO5Alddv1XGh",
        "outputId": "ef22abbb-b6bf-4393-9101-3c0a42854d52"
      },
      "execution_count": 9,
      "outputs": [
        {
          "output_type": "stream",
          "name": "stdout",
          "text": [
            "Random seed 190401003 has been set.\n",
            "tensor([[0.7549],\n",
            "        [0.7899]], grad_fn=<MulBackward0>)\n"
          ]
        }
      ]
    },
    {
      "cell_type": "markdown",
      "source": [
        "tensor([[0.4892],\n",
        "        [0.5566]], grad_fn=<MulBackward0>)"
      ],
      "metadata": {
        "id": "qoBJisuQtLT1"
      }
    }
  ]
}